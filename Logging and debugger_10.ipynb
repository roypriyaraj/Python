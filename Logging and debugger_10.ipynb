{
 "cells": [
  {
   "cell_type": "markdown",
   "id": "26b9d45a",
   "metadata": {},
   "source": [
    "# loggin"
   ]
  },
  {
   "cell_type": "markdown",
   "id": "98969ddd",
   "metadata": {},
   "source": [
    "Logging is a means of tracking events that happen when some software runs. Logging is important for software developing, debugging, and running. If you don’t have any logging record and your program crashes, there are very few chances that you detect the cause of the problem. And if you detect the cause, it will consume a lot of time. With logging, you can leave a trail of breadcrumbs so that if something goes wrong, we can determine the cause of the problem. "
   ]
  },
  {
   "cell_type": "markdown",
   "id": "087cfed7",
   "metadata": {},
   "source": [
    "applications-\n",
    " 1)debug\n",
    " 2)info\n",
    " 3)warning\n",
    " 4)error\n",
    " 5)critical"
   ]
  },
  {
   "cell_type": "code",
   "execution_count": 7,
   "id": "1516750a",
   "metadata": {},
   "outputs": [],
   "source": [
    "import logging as lg\n",
    "import os"
   ]
  },
  {
   "cell_type": "code",
   "execution_count": 8,
   "id": "d3577cb3",
   "metadata": {},
   "outputs": [],
   "source": [
    "os.mkdir(\"logging\")"
   ]
  },
  {
   "cell_type": "code",
   "execution_count": 9,
   "id": "cba7840c",
   "metadata": {},
   "outputs": [],
   "source": [
    "\n",
    "os.chdir(os.getcwd()+\"/\"+\"logging\")"
   ]
  },
  {
   "cell_type": "code",
   "execution_count": 10,
   "id": "caa3a69a",
   "metadata": {},
   "outputs": [
    {
     "data": {
      "text/plain": [
       "'C:\\\\Users\\\\Lenovo\\\\PythonPractice\\\\logging'"
      ]
     },
     "execution_count": 10,
     "metadata": {},
     "output_type": "execute_result"
    }
   ],
   "source": [
    "pwd()"
   ]
  },
  {
   "cell_type": "code",
   "execution_count": 11,
   "id": "f72a8f46",
   "metadata": {},
   "outputs": [],
   "source": [
    "lg.basicConfig(filename ='test.log',level=lg.INFO)"
   ]
  },
  {
   "cell_type": "code",
   "execution_count": 12,
   "id": "34d2ed56",
   "metadata": {},
   "outputs": [],
   "source": [
    "lg.info(\"i am going to start my program\")"
   ]
  },
  {
   "cell_type": "code",
   "execution_count": 13,
   "id": "16dd5dbe",
   "metadata": {},
   "outputs": [],
   "source": [
    "lg.warning(\"this is my first loggin of my program to modify it\")"
   ]
  },
  {
   "cell_type": "code",
   "execution_count": 14,
   "id": "b8659dff",
   "metadata": {},
   "outputs": [],
   "source": [
    "lg.error(\"this is my msg for error\")"
   ]
  },
  {
   "cell_type": "code",
   "execution_count": 15,
   "id": "c6d5ab81",
   "metadata": {},
   "outputs": [
    {
     "ename": "TypeError",
     "evalue": "can only concatenate str (not \"int\") to str",
     "output_type": "error",
     "traceback": [
      "\u001b[1;31m---------------------------------------------------------------------------\u001b[0m",
      "\u001b[1;31mTypeError\u001b[0m                                 Traceback (most recent call last)",
      "Cell \u001b[1;32mIn[15], line 1\u001b[0m\n\u001b[1;32m----> 1\u001b[0m \u001b[38;5;124;43m\"\u001b[39;49m\u001b[38;5;124;43msdfsfds\u001b[39;49m\u001b[38;5;124;43m\"\u001b[39;49m\u001b[38;5;241;43m+\u001b[39;49m\u001b[38;5;241;43m345\u001b[39;49m\n",
      "\u001b[1;31mTypeError\u001b[0m: can only concatenate str (not \"int\") to str"
     ]
    }
   ],
   "source": [
    "\"sdfsfds\"+345"
   ]
  },
  {
   "cell_type": "code",
   "execution_count": 17,
   "id": "9dd37b8f",
   "metadata": {},
   "outputs": [],
   "source": [
    "def test(a,b):\n",
    "    div=a/b\n",
    "    return div"
   ]
  },
  {
   "cell_type": "code",
   "execution_count": 18,
   "id": "2459d68e",
   "metadata": {},
   "outputs": [
    {
     "ename": "ZeroDivisionError",
     "evalue": "division by zero",
     "output_type": "error",
     "traceback": [
      "\u001b[1;31m---------------------------------------------------------------------------\u001b[0m",
      "\u001b[1;31mZeroDivisionError\u001b[0m                         Traceback (most recent call last)",
      "Cell \u001b[1;32mIn[18], line 1\u001b[0m\n\u001b[1;32m----> 1\u001b[0m \u001b[43mtest\u001b[49m\u001b[43m(\u001b[49m\u001b[38;5;241;43m4\u001b[39;49m\u001b[43m,\u001b[49m\u001b[38;5;241;43m0\u001b[39;49m\u001b[43m)\u001b[49m\n",
      "Cell \u001b[1;32mIn[17], line 2\u001b[0m, in \u001b[0;36mtest\u001b[1;34m(a, b)\u001b[0m\n\u001b[0;32m      1\u001b[0m \u001b[38;5;28;01mdef\u001b[39;00m \u001b[38;5;21mtest\u001b[39m(a,b):\n\u001b[1;32m----> 2\u001b[0m     div\u001b[38;5;241m=\u001b[39m\u001b[43ma\u001b[49m\u001b[38;5;241;43m/\u001b[39;49m\u001b[43mb\u001b[49m\n\u001b[0;32m      3\u001b[0m     \u001b[38;5;28;01mreturn\u001b[39;00m div\n",
      "\u001b[1;31mZeroDivisionError\u001b[0m: division by zero"
     ]
    }
   ],
   "source": [
    "test(4,0)# here error"
   ]
  },
  {
   "cell_type": "code",
   "execution_count": 19,
   "id": "9e1d3123",
   "metadata": {},
   "outputs": [],
   "source": [
    "# exception handling\n",
    "def test(a,b):\n",
    "    try:\n",
    "        div=a/b\n",
    "        return div\n",
    "    except Exception as e:\n",
    "        print(\"you can check you log for more into if your code will fail\")\n",
    "        lg.error(\"error has occured\")\n",
    "        lg.exception(str(e))\n",
    "    "
   ]
  },
  {
   "cell_type": "code",
   "execution_count": 20,
   "id": "7be78c05",
   "metadata": {},
   "outputs": [
    {
     "name": "stdout",
     "output_type": "stream",
     "text": [
      "you can check you log for more into if your code will fail\n"
     ]
    }
   ],
   "source": [
    "test(4,0) # now will able to capture all errors in logging"
   ]
  },
  {
   "cell_type": "code",
   "execution_count": 1,
   "id": "419a9113",
   "metadata": {},
   "outputs": [],
   "source": [
    "import logging \n",
    "logging.basicConfig(filename='C:\\\\Users\\\\Lenovo\\\\PythonPractice\\\\logging\\\\test1.log', level=logging.INFO)\n",
    "                                                #C:\\Users\\Lenovo\\PythonPractice\\logging\n"
   ]
  },
  {
   "cell_type": "code",
   "execution_count": 3,
   "id": "ec5fa426",
   "metadata": {},
   "outputs": [],
   "source": [
    "def test(a,b):\n",
    "    logging.info(\"this is a start of function\")\n",
    "    return a+b"
   ]
  },
  {
   "cell_type": "code",
   "execution_count": 4,
   "id": "4db633fc",
   "metadata": {},
   "outputs": [
    {
     "data": {
      "text/plain": [
       "11"
      ]
     },
     "execution_count": 4,
     "metadata": {},
     "output_type": "execute_result"
    }
   ],
   "source": [
    "test(5,6)"
   ]
  },
  {
   "cell_type": "code",
   "execution_count": 5,
   "id": "e2975ded",
   "metadata": {},
   "outputs": [
    {
     "data": {
      "text/plain": [
       "9"
      ]
     },
     "execution_count": 5,
     "metadata": {},
     "output_type": "execute_result"
    }
   ],
   "source": [
    "test(3,6)"
   ]
  },
  {
   "cell_type": "code",
   "execution_count": 6,
   "id": "9a0a4cc9",
   "metadata": {},
   "outputs": [
    {
     "data": {
      "text/plain": [
       "15"
      ]
     },
     "execution_count": 6,
     "metadata": {},
     "output_type": "execute_result"
    }
   ],
   "source": [
    "test(7,8)"
   ]
  },
  {
   "cell_type": "code",
   "execution_count": 7,
   "id": "2b445b9c",
   "metadata": {},
   "outputs": [
    {
     "data": {
      "text/plain": [
       "13"
      ]
     },
     "execution_count": 7,
     "metadata": {},
     "output_type": "execute_result"
    }
   ],
   "source": [
    "test(5,8)"
   ]
  },
  {
   "cell_type": "code",
   "execution_count": 8,
   "id": "100391dc",
   "metadata": {},
   "outputs": [],
   "source": [
    "logging.shutdown()#close a logging"
   ]
  },
  {
   "cell_type": "code",
   "execution_count": 9,
   "id": "b637e76c",
   "metadata": {},
   "outputs": [],
   "source": [
    "logging.debug(\"this is for debugging\")\n",
    "logging.info(\"this is info log\")\n",
    "logging.warning(\"this is my warning log\")\n",
    "logging.error(\"this is my error log\")\n",
    "logging.exception(\"this is my exception log\")\n",
    "logging.critical(\"this is my critical log\")"
   ]
  },
  {
   "cell_type": "markdown",
   "id": "fb602813",
   "metadata": {},
   "source": [
    "task\n",
    "1)create a loggin in your code\n",
    "2)create one function which can take any number of input as an argument and it will be able to return sum of it\n",
    "3)capture user input in log \n",
    "4)give a log file from python\n",
    "5)read a log file from python code and show all the login console"
   ]
  },
  {
   "cell_type": "code",
   "execution_count": 1,
   "id": "d2aa08d3",
   "metadata": {},
   "outputs": [],
   "source": [
    "import logging as lg\n",
    "lg.basicConfig(filename='test1.log',level=lg.INFO)\n",
    "def addition(*args):\n",
    "    \n",
    "    lg.info(\"this is my addition function\")\n",
    "    sum1=0\n",
    "    for i in args:\n",
    "        lg.info(str(i))\n",
    "        sum1=sum1+i\n",
    "    return sum1\n",
    "\n",
    "\n"
   ]
  },
  {
   "cell_type": "code",
   "execution_count": 6,
   "id": "1bfff09d",
   "metadata": {},
   "outputs": [
    {
     "name": "stdout",
     "output_type": "stream",
     "text": [
      "INFO:root:this is my addition function\n",
      "INFO:root:6\n",
      "INFO:root:7\n",
      "INFO:root:9\n",
      "INFO:root:4\n",
      "INFO:root:6\n",
      "INFO:root:7\n",
      "\n"
     ]
    }
   ],
   "source": [
    "fp=open(\"test1.log\",\"r\")\n",
    "print(fp.read())"
   ]
  },
  {
   "cell_type": "code",
   "execution_count": 4,
   "id": "ea4f9819",
   "metadata": {},
   "outputs": [
    {
     "data": {
      "text/plain": [
       "'INFO:root:this is my addition function\\nINFO:root:6\\nINFO:root:7\\nINFO:root:9\\nINFO:root:4\\nINFO:root:6\\nINFO:root:7\\n'"
      ]
     },
     "execution_count": 4,
     "metadata": {},
     "output_type": "execute_result"
    }
   ],
   "source": [
    "f.read()"
   ]
  },
  {
   "cell_type": "code",
   "execution_count": 3,
   "id": "cb8f2940",
   "metadata": {},
   "outputs": [
    {
     "data": {
      "text/plain": [
       "39"
      ]
     },
     "execution_count": 3,
     "metadata": {},
     "output_type": "execute_result"
    }
   ],
   "source": [
    "addition(6,7,9,4,6,7)"
   ]
  },
  {
   "cell_type": "code",
   "execution_count": 1,
   "id": "c2b254c9",
   "metadata": {},
   "outputs": [],
   "source": [
    "import logging #root logging"
   ]
  },
  {
   "cell_type": "code",
   "execution_count": 2,
   "id": "739b6f4c",
   "metadata": {},
   "outputs": [],
   "source": [
    "logging.basicConfig(filename=\"test3.log\",level=logging.DEBUG, format='%(asctime)s %(levelname)s %(message)s')"
   ]
  },
  {
   "cell_type": "code",
   "execution_count": 3,
   "id": "255aedae",
   "metadata": {},
   "outputs": [],
   "source": [
    "console_log=logging.StreamHandler()#stream all info in console\n",
    "console_log.setLevel(logging.INFO)"
   ]
  },
  {
   "cell_type": "code",
   "execution_count": 4,
   "id": "f9b3a964",
   "metadata": {},
   "outputs": [],
   "source": [
    "format ='%(asctime)s %(levelname)s %(message)s'# set stream handler"
   ]
  },
  {
   "cell_type": "code",
   "execution_count": 5,
   "id": "c6ac4851",
   "metadata": {},
   "outputs": [],
   "source": [
    "console_log.setFormatter(format)"
   ]
  },
  {
   "cell_type": "code",
   "execution_count": 6,
   "id": "edbae713",
   "metadata": {},
   "outputs": [],
   "source": [
    "logging.getLogger('').addHandler(console_log)"
   ]
  },
  {
   "cell_type": "code",
   "execution_count": 7,
   "id": "cf903d09",
   "metadata": {},
   "outputs": [
    {
     "name": "stderr",
     "output_type": "stream",
     "text": [
      "%(asctime)s %(levelname)s %(message)s\n"
     ]
    }
   ],
   "source": [
    "logging.info('this is my first test test code for log')"
   ]
  },
  {
   "cell_type": "code",
   "execution_count": 8,
   "id": "1800a012",
   "metadata": {},
   "outputs": [],
   "source": [
    "logger1=logging.getLogger('logger1.area1') #log from different user\n",
    "logger2=logging.getLogger('logger2.area2') # instances of loggin ,which user is facing which problem"
   ]
  },
  {
   "cell_type": "code",
   "execution_count": 9,
   "id": "893d463a",
   "metadata": {},
   "outputs": [
    {
     "name": "stderr",
     "output_type": "stream",
     "text": [
      "%(asctime)s %(levelname)s %(message)s\n",
      "%(asctime)s %(levelname)s %(message)s\n"
     ]
    }
   ],
   "source": [
    "logger1.info(\"this is info for logger one\")\n",
    "logger2.debug(\"this is a debug for logger two\")\n",
    "logger2.info(\"this is info for logger two\")"
   ]
  },
  {
   "cell_type": "markdown",
   "id": "a949bafe",
   "metadata": {},
   "source": [
    "#logging capturing unfo from user"
   ]
  },
  {
   "cell_type": "code",
   "execution_count": 13,
   "id": "a1fd8352",
   "metadata": {},
   "outputs": [
    {
     "name": "stderr",
     "output_type": "stream",
     "text": [
      "%(asctime)s %(levelname)s %(message)s\n",
      "%(asctime)s %(levelname)s %(message)s\n",
      "%(asctime)s %(levelname)s %(message)s\n",
      "%(asctime)s %(levelname)s %(message)s\n",
      "%(asctime)s %(levelname)s %(message)s\n",
      "%(asctime)s %(levelname)s %(message)s\n"
     ]
    }
   ],
   "source": [
    "#logging_example.py\n",
    "\n",
    "import logging\n",
    "\n",
    "logging.basicConfig(filename='app1.log',level=logging.DEBUG,format ='%names-%(asctime)s-%(levelname)s - %(message)s')\n",
    "                    \n",
    "#create handlers\n",
    "console_log = logging.StreamHandler()\n",
    "console_log.setLevel(logging.INFO)    \n",
    "format ='%(asctime)s %(levelname)s %(message)s'\n",
    "console_log.setFormatter(format)\n",
    "\n",
    "#create a custom logger\n",
    "logging.getLogger('').addHandler(console_log)\n",
    "logging.info('main log')    \n",
    "logger1=logging.getLogger('user1') #log from different user\n",
    "logger2=logging.getLogger('user2') \n",
    "\n",
    "logger1.info('this is from user1 info')\n",
    "logger2.debug('this is from user2 debug')                    "
   ]
  },
  {
   "cell_type": "markdown",
   "id": "13f4dd44",
   "metadata": {},
   "source": [
    "# debugger"
   ]
  },
  {
   "cell_type": "code",
   "execution_count": 1,
   "id": "f815e8bf",
   "metadata": {},
   "outputs": [
    {
     "name": "stdout",
     "output_type": "stream",
     "text": [
      "Collecting ipdb\n",
      "  Downloading ipdb-0.13.13-py3-none-any.whl (12 kB)\n",
      "Requirement already satisfied: tomli in c:\\users\\lenovo\\anaconda3\\lib\\site-packages (from ipdb) (2.0.1)\n",
      "Requirement already satisfied: decorator in c:\\users\\lenovo\\anaconda3\\lib\\site-packages (from ipdb) (5.1.1)\n",
      "Requirement already satisfied: ipython>=7.31.1 in c:\\users\\lenovo\\anaconda3\\lib\\site-packages (from ipdb) (8.10.0)\n",
      "Requirement already satisfied: pickleshare in c:\\users\\lenovo\\anaconda3\\lib\\site-packages (from ipython>=7.31.1->ipdb) (0.7.5)\n",
      "Requirement already satisfied: backcall in c:\\users\\lenovo\\anaconda3\\lib\\site-packages (from ipython>=7.31.1->ipdb) (0.2.0)\n",
      "Requirement already satisfied: prompt-toolkit<3.1.0,>=3.0.30 in c:\\users\\lenovo\\anaconda3\\lib\\site-packages (from ipython>=7.31.1->ipdb) (3.0.36)\n",
      "Requirement already satisfied: pygments>=2.4.0 in c:\\users\\lenovo\\anaconda3\\lib\\site-packages (from ipython>=7.31.1->ipdb) (2.11.2)\n",
      "Requirement already satisfied: jedi>=0.16 in c:\\users\\lenovo\\anaconda3\\lib\\site-packages (from ipython>=7.31.1->ipdb) (0.18.1)\n",
      "Requirement already satisfied: stack-data in c:\\users\\lenovo\\anaconda3\\lib\\site-packages (from ipython>=7.31.1->ipdb) (0.2.0)\n",
      "Requirement already satisfied: colorama in c:\\users\\lenovo\\anaconda3\\lib\\site-packages (from ipython>=7.31.1->ipdb) (0.4.6)\n",
      "Requirement already satisfied: traitlets>=5 in c:\\users\\lenovo\\anaconda3\\lib\\site-packages (from ipython>=7.31.1->ipdb) (5.7.1)\n",
      "Requirement already satisfied: matplotlib-inline in c:\\users\\lenovo\\anaconda3\\lib\\site-packages (from ipython>=7.31.1->ipdb) (0.1.6)\n",
      "Requirement already satisfied: parso<0.9.0,>=0.8.0 in c:\\users\\lenovo\\anaconda3\\lib\\site-packages (from jedi>=0.16->ipython>=7.31.1->ipdb) (0.8.3)\n",
      "Requirement already satisfied: wcwidth in c:\\users\\lenovo\\anaconda3\\lib\\site-packages (from prompt-toolkit<3.1.0,>=3.0.30->ipython>=7.31.1->ipdb) (0.2.5)\n",
      "Requirement already satisfied: pure-eval in c:\\users\\lenovo\\anaconda3\\lib\\site-packages (from stack-data->ipython>=7.31.1->ipdb) (0.2.2)\n",
      "Requirement already satisfied: asttokens in c:\\users\\lenovo\\anaconda3\\lib\\site-packages (from stack-data->ipython>=7.31.1->ipdb) (2.0.5)\n",
      "Requirement already satisfied: executing in c:\\users\\lenovo\\anaconda3\\lib\\site-packages (from stack-data->ipython>=7.31.1->ipdb) (0.8.3)\n",
      "Requirement already satisfied: six in c:\\users\\lenovo\\anaconda3\\lib\\site-packages (from asttokens->stack-data->ipython>=7.31.1->ipdb) (1.16.0)\n",
      "Installing collected packages: ipdb\n",
      "Successfully installed ipdb-0.13.13\n"
     ]
    }
   ],
   "source": [
    "!pip install ipdb"
   ]
  },
  {
   "cell_type": "code",
   "execution_count": 1,
   "id": "fa4e40cb",
   "metadata": {},
   "outputs": [],
   "source": [
    "import ipdb"
   ]
  },
  {
   "cell_type": "code",
   "execution_count": 2,
   "id": "0c2dc78c",
   "metadata": {},
   "outputs": [],
   "source": [
    "def testdebug():\n",
    "    ipdb.set_trace()# trying to keep pointer ,trace of a code,understand the flow of the code\n",
    "    l=[]\n",
    "    for i in range(5):\n",
    "        l.append(i)\n",
    "        print(\"we have appeneded your data in list\")\n",
    "    return 1    "
   ]
  },
  {
   "cell_type": "code",
   "execution_count": 3,
   "id": "eefb22c5",
   "metadata": {},
   "outputs": [
    {
     "name": "stdout",
     "output_type": "stream",
     "text": [
      "> \u001b[1;32mc:\\users\\lenovo\\appdata\\local\\temp\\ipykernel_8820\\2614352779.py\u001b[0m(3)\u001b[0;36mtestdebug\u001b[1;34m()\u001b[0m\n",
      "\n",
      "ipdb> h\n",
      "\n",
      "Documented commands (type help <topic>):\n",
      "========================================\n",
      "EOF    commands   enable    ll        pp       s                until \n",
      "a      condition  exit      longlist  psource  skip_hidden      up    \n",
      "alias  cont       h         n         q        skip_predicates  w     \n",
      "args   context    help      next      quit     source           whatis\n",
      "b      continue   ignore    p         r        step             where \n",
      "break  d          interact  pdef      restart  tbreak         \n",
      "bt     debug      j         pdoc      return   u              \n",
      "c      disable    jump      pfile     retval   unalias        \n",
      "cl     display    l         pinfo     run      undisplay      \n",
      "clear  down       list      pinfo2    rv       unt            \n",
      "\n",
      "Miscellaneous help topics:\n",
      "==========================\n",
      "exec  pdb\n",
      "\n",
      "ipdb> next\n",
      "> \u001b[1;32mc:\\users\\lenovo\\appdata\\local\\temp\\ipykernel_8820\\2614352779.py\u001b[0m(4)\u001b[0;36mtestdebug\u001b[1;34m()\u001b[0m\n",
      "\n",
      "ipdb> next()\n",
      "> \u001b[1;32mc:\\users\\lenovo\\appdata\\local\\temp\\ipykernel_8820\\2614352779.py\u001b[0m(5)\u001b[0;36mtestdebug\u001b[1;34m()\u001b[0m\n",
      "\n",
      "ipdb> h\n",
      "\n",
      "Documented commands (type help <topic>):\n",
      "========================================\n",
      "EOF    commands   enable    ll        pp       s                until \n",
      "a      condition  exit      longlist  psource  skip_hidden      up    \n",
      "alias  cont       h         n         q        skip_predicates  w     \n",
      "args   context    help      next      quit     source           whatis\n",
      "b      continue   ignore    p         r        step             where \n",
      "break  d          interact  pdef      restart  tbreak         \n",
      "bt     debug      j         pdoc      return   u              \n",
      "c      disable    jump      pfile     retval   unalias        \n",
      "cl     display    l         pinfo     run      undisplay      \n",
      "clear  down       list      pinfo2    rv       unt            \n",
      "\n",
      "Miscellaneous help topics:\n",
      "==========================\n",
      "exec  pdb\n",
      "\n",
      "ipdb> c\n",
      "we have appeneded your data in list\n",
      "we have appeneded your data in list\n",
      "we have appeneded your data in list\n",
      "we have appeneded your data in list\n",
      "we have appeneded your data in list\n"
     ]
    },
    {
     "data": {
      "text/plain": [
       "1"
      ]
     },
     "execution_count": 3,
     "metadata": {},
     "output_type": "execute_result"
    }
   ],
   "source": [
    "testdebug() #h-help"
   ]
  },
  {
   "cell_type": "code",
   "execution_count": 2,
   "id": "989f1862",
   "metadata": {},
   "outputs": [],
   "source": [
    "def testdebug():\n",
    "    ipdb.set_trace()# trying to keep pointer ,trace of a code,help to understand the flow of the code\n",
    "    l=[]\n",
    "    for i in range(5):\n",
    "        l.append(i)\n",
    "        if i==4:\n",
    "            continue\n",
    "        print(\"we have appeneded your data in list\")\n",
    "    print(l)   \n",
    "    return 1    "
   ]
  },
  {
   "cell_type": "code",
   "execution_count": 3,
   "id": "5a9bb9ee",
   "metadata": {},
   "outputs": [
    {
     "name": "stdout",
     "output_type": "stream",
     "text": [
      "> \u001b[1;32mc:\\users\\lenovo\\appdata\\local\\temp\\ipykernel_17804\\1872719868.py\u001b[0m(3)\u001b[0;36mtestdebug\u001b[1;34m()\u001b[0m\n",
      "\n",
      "ipdb> h\n",
      "\n",
      "Documented commands (type help <topic>):\n",
      "========================================\n",
      "EOF    commands   enable    ll        pp       s                until \n",
      "a      condition  exit      longlist  psource  skip_hidden      up    \n",
      "alias  cont       h         n         q        skip_predicates  w     \n",
      "args   context    help      next      quit     source           whatis\n",
      "b      continue   ignore    p         r        step             where \n",
      "break  d          interact  pdef      restart  tbreak         \n",
      "bt     debug      j         pdoc      return   u              \n",
      "c      disable    jump      pfile     retval   unalias        \n",
      "cl     display    l         pinfo     run      undisplay      \n",
      "clear  down       list      pinfo2    rv       unt            \n",
      "\n",
      "Miscellaneous help topics:\n",
      "==========================\n",
      "exec  pdb\n",
      "\n",
      "ipdb> n\n",
      "> \u001b[1;32mc:\\users\\lenovo\\appdata\\local\\temp\\ipykernel_17804\\1872719868.py\u001b[0m(4)\u001b[0;36mtestdebug\u001b[1;34m()\u001b[0m\n",
      "\n",
      "ipdb> n\n",
      "> \u001b[1;32mc:\\users\\lenovo\\appdata\\local\\temp\\ipykernel_17804\\1872719868.py\u001b[0m(5)\u001b[0;36mtestdebug\u001b[1;34m()\u001b[0m\n",
      "\n",
      "ipdb> n\n",
      "> \u001b[1;32mc:\\users\\lenovo\\appdata\\local\\temp\\ipykernel_17804\\1872719868.py\u001b[0m(6)\u001b[0;36mtestdebug\u001b[1;34m()\u001b[0m\n",
      "\n",
      "ipdb> n\n",
      "> \u001b[1;32mc:\\users\\lenovo\\appdata\\local\\temp\\ipykernel_17804\\1872719868.py\u001b[0m(8)\u001b[0;36mtestdebug\u001b[1;34m()\u001b[0m\n",
      "\n",
      "ipdb> n\n",
      "we have appeneded your data in list\n",
      "> \u001b[1;32mc:\\users\\lenovo\\appdata\\local\\temp\\ipykernel_17804\\1872719868.py\u001b[0m(4)\u001b[0;36mtestdebug\u001b[1;34m()\u001b[0m\n",
      "\n",
      "ipdb> n\n",
      "> \u001b[1;32mc:\\users\\lenovo\\appdata\\local\\temp\\ipykernel_17804\\1872719868.py\u001b[0m(5)\u001b[0;36mtestdebug\u001b[1;34m()\u001b[0m\n",
      "\n",
      "ipdb> n\n",
      "> \u001b[1;32mc:\\users\\lenovo\\appdata\\local\\temp\\ipykernel_17804\\1872719868.py\u001b[0m(6)\u001b[0;36mtestdebug\u001b[1;34m()\u001b[0m\n",
      "\n",
      "ipdb> n\n",
      "> \u001b[1;32mc:\\users\\lenovo\\appdata\\local\\temp\\ipykernel_17804\\1872719868.py\u001b[0m(8)\u001b[0;36mtestdebug\u001b[1;34m()\u001b[0m\n",
      "\n",
      "ipdb> n\n",
      "we have appeneded your data in list\n",
      "> \u001b[1;32mc:\\users\\lenovo\\appdata\\local\\temp\\ipykernel_17804\\1872719868.py\u001b[0m(4)\u001b[0;36mtestdebug\u001b[1;34m()\u001b[0m\n",
      "\n",
      "ipdb> c\n",
      "we have appeneded your data in list\n",
      "we have appeneded your data in list\n",
      "[0, 1, 2, 3, 4]\n"
     ]
    },
    {
     "data": {
      "text/plain": [
       "1"
      ]
     },
     "execution_count": 3,
     "metadata": {},
     "output_type": "execute_result"
    }
   ],
   "source": [
    "testdebug()"
   ]
  },
  {
   "cell_type": "code",
   "execution_count": null,
   "id": "caa64efb",
   "metadata": {},
   "outputs": [],
   "source": [
    "\n"
   ]
  },
  {
   "cell_type": "code",
   "execution_count": null,
   "id": "827687df",
   "metadata": {},
   "outputs": [],
   "source": []
  },
  {
   "cell_type": "code",
   "execution_count": null,
   "id": "e17e41e6",
   "metadata": {},
   "outputs": [],
   "source": []
  }
 ],
 "metadata": {
  "kernelspec": {
   "display_name": "Python 3 (ipykernel)",
   "language": "python",
   "name": "python3"
  },
  "language_info": {
   "codemirror_mode": {
    "name": "ipython",
    "version": 3
   },
   "file_extension": ".py",
   "mimetype": "text/x-python",
   "name": "python",
   "nbconvert_exporter": "python",
   "pygments_lexer": "ipython3",
   "version": "3.10.9"
  }
 },
 "nbformat": 4,
 "nbformat_minor": 5
}
