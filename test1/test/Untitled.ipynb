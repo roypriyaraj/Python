{
 "cells": [
  {
   "cell_type": "code",
   "execution_count": 1,
   "id": "5078f816",
   "metadata": {},
   "outputs": [],
   "source": [
    "import mod1,mod2,mod3"
   ]
  },
  {
   "cell_type": "code",
   "execution_count": 2,
   "id": "c48514f5",
   "metadata": {},
   "outputs": [
    {
     "name": "stdout",
     "output_type": "stream",
     "text": [
      "this is my  fn1 mod 1\n"
     ]
    }
   ],
   "source": [
    "mod1.fn11()"
   ]
  },
  {
   "cell_type": "code",
   "execution_count": 4,
   "id": "74fcc20c",
   "metadata": {},
   "outputs": [
    {
     "name": "stdout",
     "output_type": "stream",
     "text": [
      "this is my fn2 mod1\n"
     ]
    }
   ],
   "source": [
    "mod1.fn21()"
   ]
  },
  {
   "cell_type": "code",
   "execution_count": 5,
   "id": "e4d587f9",
   "metadata": {},
   "outputs": [
    {
     "name": "stdout",
     "output_type": "stream",
     "text": [
      "this is my fn3 mod1\n"
     ]
    }
   ],
   "source": [
    "mod1.fn31()"
   ]
  },
  {
   "cell_type": "code",
   "execution_count": 6,
   "id": "80400e35",
   "metadata": {},
   "outputs": [
    {
     "name": "stdout",
     "output_type": "stream",
     "text": [
      "this is my fn3 mod3\n"
     ]
    }
   ],
   "source": [
    "mod3.fn33()"
   ]
  },
  {
   "cell_type": "code",
   "execution_count": null,
   "id": "bed3bd63",
   "metadata": {},
   "outputs": [],
   "source": []
  }
 ],
 "metadata": {
  "kernelspec": {
   "display_name": "Python 3 (ipykernel)",
   "language": "python",
   "name": "python3"
  },
  "language_info": {
   "codemirror_mode": {
    "name": "ipython",
    "version": 3
   },
   "file_extension": ".py",
   "mimetype": "text/x-python",
   "name": "python",
   "nbconvert_exporter": "python",
   "pygments_lexer": "ipython3",
   "version": "3.10.9"
  }
 },
 "nbformat": 4,
 "nbformat_minor": 5
}
