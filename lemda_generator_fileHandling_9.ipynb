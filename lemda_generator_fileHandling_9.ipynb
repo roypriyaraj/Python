{
 "cells": [
  {
   "cell_type": "code",
   "execution_count": 1,
   "id": "c6efdaf1",
   "metadata": {},
   "outputs": [],
   "source": [
    "def test(**kwargs):\n",
    "    print(kwargs.items())"
   ]
  },
  {
   "cell_type": "code",
   "execution_count": 4,
   "id": "4fd4148a",
   "metadata": {},
   "outputs": [
    {
     "name": "stdout",
     "output_type": "stream",
     "text": [
      "dict_items([('x', 'priyanka'), ('y', 67), ('z', 89), ('k', 90)])\n"
     ]
    }
   ],
   "source": [
    "test(x=\"priyanka\",y=67,z=89,k=90)"
   ]
  },
  {
   "cell_type": "markdown",
   "id": "52766fac",
   "metadata": {},
   "source": [
    "lemda function(no name)\n",
    "\n",
    "A lambda function is a small anonymous function.\n",
    "\n",
    "A lambda function can take any number of arguments, but can only have one expression."
   ]
  },
  {
   "cell_type": "code",
   "execution_count": 5,
   "id": "f7ae487b",
   "metadata": {},
   "outputs": [],
   "source": [
    "def test(name,mail_id):\n",
    "    con=name+mail_id\n",
    "    return mail_id,name,con"
   ]
  },
  {
   "cell_type": "code",
   "execution_count": 6,
   "id": "f46a9f6b",
   "metadata": {},
   "outputs": [
    {
     "data": {
      "text/plain": [
       "('priyankahjgfdfgh.com', 'priyanka', 'priyankapriyankahjgfdfgh.com')"
      ]
     },
     "execution_count": 6,
     "metadata": {},
     "output_type": "execute_result"
    }
   ],
   "source": [
    "test(\"priyanka\",\"priyankahjgfdfgh.com\")"
   ]
  },
  {
   "cell_type": "code",
   "execution_count": 7,
   "id": "178578bf",
   "metadata": {},
   "outputs": [],
   "source": [
    "a=10\n",
    "b=20\n",
    "\n",
    "def test1(x,y):\n",
    "    return x+y\n"
   ]
  },
  {
   "cell_type": "code",
   "execution_count": 8,
   "id": "540496c7",
   "metadata": {},
   "outputs": [
    {
     "data": {
      "text/plain": [
       "13"
      ]
     },
     "execution_count": 8,
     "metadata": {},
     "output_type": "execute_result"
    }
   ],
   "source": [
    "test1(5,8)"
   ]
  },
  {
   "cell_type": "code",
   "execution_count": 10,
   "id": "54f88562",
   "metadata": {},
   "outputs": [],
   "source": [
    "m = lambda x,y:x+y"
   ]
  },
  {
   "cell_type": "code",
   "execution_count": 11,
   "id": "69b47bc0",
   "metadata": {},
   "outputs": [
    {
     "data": {
      "text/plain": [
       "30"
      ]
     },
     "execution_count": 11,
     "metadata": {},
     "output_type": "execute_result"
    }
   ],
   "source": [
    "m(a,b)"
   ]
  },
  {
   "cell_type": "code",
   "execution_count": 12,
   "id": "a75006b0",
   "metadata": {},
   "outputs": [
    {
     "data": {
      "text/plain": [
       "'sudhsdfggcvf.com'"
      ]
     },
     "execution_count": 12,
     "metadata": {},
     "output_type": "execute_result"
    }
   ],
   "source": [
    "m(\"sudh\",\"sdfggcvf.com\")"
   ]
  },
  {
   "cell_type": "code",
   "execution_count": 13,
   "id": "9ebb30fe",
   "metadata": {},
   "outputs": [],
   "source": [
    "b=\"priyanka\"\n",
    "c=\"test\"\n",
    "n= lambda arg1,arg2:print(arg1,arg2)"
   ]
  },
  {
   "cell_type": "code",
   "execution_count": 14,
   "id": "1ff4b6b4",
   "metadata": {},
   "outputs": [
    {
     "name": "stdout",
     "output_type": "stream",
     "text": [
      "priyanka test\n"
     ]
    }
   ],
   "source": [
    "n(b,c)"
   ]
  },
  {
   "cell_type": "code",
   "execution_count": 17,
   "id": "ef1e1b7d",
   "metadata": {},
   "outputs": [],
   "source": [
    "r=10  # global variable accessible by anywhere\n",
    "def test3(a,b):\n",
    "    r=a/b   # local variable accessible to this function only\n",
    "    print(r)"
   ]
  },
  {
   "cell_type": "code",
   "execution_count": 18,
   "id": "f6bdcd83",
   "metadata": {},
   "outputs": [
    {
     "name": "stdout",
     "output_type": "stream",
     "text": [
      "9.0\n"
     ]
    }
   ],
   "source": [
    "test3(18,2)"
   ]
  },
  {
   "cell_type": "code",
   "execution_count": 20,
   "id": "4d15770e",
   "metadata": {},
   "outputs": [],
   "source": [
    "#docstring- as a developer we have to make other understand what the function is taking and doing\n",
    "\n",
    "def test4(a,b):  #docstring\n",
    "    \"\"\"\n",
    "    test4()\n",
    "    a=this is going to do this\n",
    "    b= is going to do that\n",
    "    this is my test function with the\n",
    "    help of this function you will be able to learn a basuc of fun\n",
    "    \n",
    "    \"\"\"\n",
    "    print(\"my name is xyz\")"
   ]
  },
  {
   "cell_type": "code",
   "execution_count": 21,
   "id": "1c0bad5e",
   "metadata": {},
   "outputs": [
    {
     "name": "stdout",
     "output_type": "stream",
     "text": [
      "my name is xyz\n"
     ]
    }
   ],
   "source": [
    "test4(45,67)"
   ]
  },
  {
   "cell_type": "code",
   "execution_count": 22,
   "id": "fc3c7fea",
   "metadata": {},
   "outputs": [
    {
     "name": "stdout",
     "output_type": "stream",
     "text": [
      "Help on built-in function print in module builtins:\n",
      "\n",
      "print(...)\n",
      "    print(value, ..., sep=' ', end='\\n', file=sys.stdout, flush=False)\n",
      "    \n",
      "    Prints the values to a stream, or to sys.stdout by default.\n",
      "    Optional keyword arguments:\n",
      "    file:  a file-like object (stream); defaults to the current sys.stdout.\n",
      "    sep:   string inserted between values, default a space.\n",
      "    end:   string appended after the last value, default a newline.\n",
      "    flush: whether to forcibly flush the stream.\n",
      "\n"
     ]
    }
   ],
   "source": [
    "help(print)"
   ]
  },
  {
   "cell_type": "code",
   "execution_count": 23,
   "id": "5b3823f5",
   "metadata": {},
   "outputs": [],
   "source": [
    "a=10"
   ]
  },
  {
   "cell_type": "code",
   "execution_count": 24,
   "id": "9bb812e5",
   "metadata": {},
   "outputs": [
    {
     "ename": "TypeError",
     "evalue": "'int' object is not iterable",
     "output_type": "error",
     "traceback": [
      "\u001b[1;31m---------------------------------------------------------------------------\u001b[0m",
      "\u001b[1;31mTypeError\u001b[0m                                 Traceback (most recent call last)",
      "Cell \u001b[1;32mIn[24], line 1\u001b[0m\n\u001b[1;32m----> 1\u001b[0m \u001b[38;5;28;01mfor\u001b[39;00m i \u001b[38;5;129;01min\u001b[39;00m a:\n\u001b[0;32m      2\u001b[0m     \u001b[38;5;28mprint\u001b[39m(i)\n",
      "\u001b[1;31mTypeError\u001b[0m: 'int' object is not iterable"
     ]
    }
   ],
   "source": [
    "for i in a:\n",
    "    print(i)"
   ]
  },
  {
   "cell_type": "code",
   "execution_count": 25,
   "id": "f7418ef1",
   "metadata": {},
   "outputs": [
    {
     "name": "stdout",
     "output_type": "stream",
     "text": [
      "p\n",
      "r\n",
      "i\n",
      "y\n",
      "a\n",
      "n\n",
      "k\n",
      "a\n"
     ]
    }
   ],
   "source": [
    "for i in \"priyanka\":\n",
    "    print(i)"
   ]
  },
  {
   "cell_type": "code",
   "execution_count": 26,
   "id": "a1582af3",
   "metadata": {},
   "outputs": [
    {
     "ename": "TypeError",
     "evalue": "'str' object is not an iterator",
     "output_type": "error",
     "traceback": [
      "\u001b[1;31m---------------------------------------------------------------------------\u001b[0m",
      "\u001b[1;31mTypeError\u001b[0m                                 Traceback (most recent call last)",
      "Cell \u001b[1;32mIn[26], line 2\u001b[0m\n\u001b[0;32m      1\u001b[0m s\u001b[38;5;241m=\u001b[39m\u001b[38;5;124m\"\u001b[39m\u001b[38;5;124mpriyanka\u001b[39m\u001b[38;5;124m\"\u001b[39m\n\u001b[1;32m----> 2\u001b[0m \u001b[38;5;28;43mnext\u001b[39;49m\u001b[43m(\u001b[49m\u001b[43ms\u001b[49m\u001b[43m)\u001b[49m\n",
      "\u001b[1;31mTypeError\u001b[0m: 'str' object is not an iterator"
     ]
    }
   ],
   "source": [
    "s=\"priyanka\"\n",
    "next(s)"
   ]
  },
  {
   "cell_type": "markdown",
   "id": "6557b0ee",
   "metadata": {},
   "source": [
    "iterable- it is an object which is accessible by index\n",
    "iterator- it is an object which remember what was done in past and what we have to done next\n",
    "\n",
    "if it is iterable we can convert it to iterator"
   ]
  },
  {
   "cell_type": "code",
   "execution_count": 27,
   "id": "be9a69c9",
   "metadata": {},
   "outputs": [],
   "source": [
    "s=iter(s) # string is iterable but not iterator using iter to convert it to iterator"
   ]
  },
  {
   "cell_type": "code",
   "execution_count": 28,
   "id": "9a4621aa",
   "metadata": {},
   "outputs": [
    {
     "data": {
      "text/plain": [
       "'p'"
      ]
     },
     "execution_count": 28,
     "metadata": {},
     "output_type": "execute_result"
    }
   ],
   "source": [
    "next(s)"
   ]
  },
  {
   "cell_type": "code",
   "execution_count": 29,
   "id": "f78e3017",
   "metadata": {},
   "outputs": [
    {
     "data": {
      "text/plain": [
       "'r'"
      ]
     },
     "execution_count": 29,
     "metadata": {},
     "output_type": "execute_result"
    }
   ],
   "source": [
    "next(s)"
   ]
  },
  {
   "cell_type": "code",
   "execution_count": 30,
   "id": "68d228e2",
   "metadata": {},
   "outputs": [
    {
     "data": {
      "text/plain": [
       "'i'"
      ]
     },
     "execution_count": 30,
     "metadata": {},
     "output_type": "execute_result"
    }
   ],
   "source": [
    "next(s)"
   ]
  },
  {
   "cell_type": "code",
   "execution_count": 31,
   "id": "3c195e43",
   "metadata": {},
   "outputs": [
    {
     "data": {
      "text/plain": [
       "'y'"
      ]
     },
     "execution_count": 31,
     "metadata": {},
     "output_type": "execute_result"
    }
   ],
   "source": [
    "next(s)"
   ]
  },
  {
   "cell_type": "code",
   "execution_count": 33,
   "id": "e8c5f218",
   "metadata": {},
   "outputs": [
    {
     "data": {
      "text/plain": [
       "'a'"
      ]
     },
     "execution_count": 33,
     "metadata": {},
     "output_type": "execute_result"
    }
   ],
   "source": [
    "next(s)"
   ]
  },
  {
   "cell_type": "code",
   "execution_count": 34,
   "id": "b40db6ff",
   "metadata": {},
   "outputs": [
    {
     "data": {
      "text/plain": [
       "'n'"
      ]
     },
     "execution_count": 34,
     "metadata": {},
     "output_type": "execute_result"
    }
   ],
   "source": [
    "next(s)"
   ]
  },
  {
   "cell_type": "code",
   "execution_count": 35,
   "id": "0efa2d1b",
   "metadata": {},
   "outputs": [
    {
     "data": {
      "text/plain": [
       "'k'"
      ]
     },
     "execution_count": 35,
     "metadata": {},
     "output_type": "execute_result"
    }
   ],
   "source": [
    "next(s)"
   ]
  },
  {
   "cell_type": "code",
   "execution_count": 36,
   "id": "1d58fe28",
   "metadata": {},
   "outputs": [
    {
     "data": {
      "text/plain": [
       "'a'"
      ]
     },
     "execution_count": 36,
     "metadata": {},
     "output_type": "execute_result"
    }
   ],
   "source": [
    "next(s)"
   ]
  },
  {
   "cell_type": "code",
   "execution_count": 37,
   "id": "24228a2a",
   "metadata": {},
   "outputs": [
    {
     "ename": "StopIteration",
     "evalue": "",
     "output_type": "error",
     "traceback": [
      "\u001b[1;31m---------------------------------------------------------------------------\u001b[0m",
      "\u001b[1;31mStopIteration\u001b[0m                             Traceback (most recent call last)",
      "Cell \u001b[1;32mIn[37], line 1\u001b[0m\n\u001b[1;32m----> 1\u001b[0m \u001b[38;5;28;43mnext\u001b[39;49m\u001b[43m(\u001b[49m\u001b[43ms\u001b[49m\u001b[43m)\u001b[49m\n",
      "\u001b[1;31mStopIteration\u001b[0m: "
     ]
    }
   ],
   "source": [
    "next(s)"
   ]
  },
  {
   "cell_type": "code",
   "execution_count": 38,
   "id": "6e8f6e9a",
   "metadata": {},
   "outputs": [],
   "source": [
    "l=[56,89,34,56]# list is also iterable object so use iter func to convert it to iterator "
   ]
  },
  {
   "cell_type": "code",
   "execution_count": 39,
   "id": "55c1041e",
   "metadata": {},
   "outputs": [
    {
     "ename": "TypeError",
     "evalue": "'list' object is not an iterator",
     "output_type": "error",
     "traceback": [
      "\u001b[1;31m---------------------------------------------------------------------------\u001b[0m",
      "\u001b[1;31mTypeError\u001b[0m                                 Traceback (most recent call last)",
      "Cell \u001b[1;32mIn[39], line 1\u001b[0m\n\u001b[1;32m----> 1\u001b[0m \u001b[38;5;28;43mnext\u001b[39;49m\u001b[43m(\u001b[49m\u001b[43ml\u001b[49m\u001b[43m)\u001b[49m\n",
      "\u001b[1;31mTypeError\u001b[0m: 'list' object is not an iterator"
     ]
    }
   ],
   "source": [
    "next(l)"
   ]
  },
  {
   "cell_type": "code",
   "execution_count": 47,
   "id": "ce1f183b",
   "metadata": {},
   "outputs": [
    {
     "name": "stdout",
     "output_type": "stream",
     "text": [
      "p\n",
      "r\n",
      "i\n",
      "y\n",
      "a\n",
      "n\n",
      "k\n",
      "a\n"
     ]
    }
   ],
   "source": [
    "for i in \"priyanka\": # for loop convert iterator object\n",
    "    print(i)"
   ]
  },
  {
   "cell_type": "code",
   "execution_count": 40,
   "id": "88822b56",
   "metadata": {},
   "outputs": [],
   "source": [
    "l=iter(l)"
   ]
  },
  {
   "cell_type": "code",
   "execution_count": 41,
   "id": "7d9b73c7",
   "metadata": {},
   "outputs": [
    {
     "data": {
      "text/plain": [
       "56"
      ]
     },
     "execution_count": 41,
     "metadata": {},
     "output_type": "execute_result"
    }
   ],
   "source": [
    "next(l)"
   ]
  },
  {
   "cell_type": "code",
   "execution_count": 42,
   "id": "435c44ef",
   "metadata": {},
   "outputs": [
    {
     "data": {
      "text/plain": [
       "89"
      ]
     },
     "execution_count": 42,
     "metadata": {},
     "output_type": "execute_result"
    }
   ],
   "source": [
    "next(l)"
   ]
  },
  {
   "cell_type": "code",
   "execution_count": 43,
   "id": "fd532f76",
   "metadata": {},
   "outputs": [
    {
     "data": {
      "text/plain": [
       "34"
      ]
     },
     "execution_count": 43,
     "metadata": {},
     "output_type": "execute_result"
    }
   ],
   "source": [
    "next(l)"
   ]
  },
  {
   "cell_type": "code",
   "execution_count": 44,
   "id": "1eb91df5",
   "metadata": {},
   "outputs": [
    {
     "data": {
      "text/plain": [
       "56"
      ]
     },
     "execution_count": 44,
     "metadata": {},
     "output_type": "execute_result"
    }
   ],
   "source": [
    "next(l)"
   ]
  },
  {
   "cell_type": "code",
   "execution_count": 45,
   "id": "2c72cbd4",
   "metadata": {},
   "outputs": [
    {
     "ename": "StopIteration",
     "evalue": "",
     "output_type": "error",
     "traceback": [
      "\u001b[1;31m---------------------------------------------------------------------------\u001b[0m",
      "\u001b[1;31mStopIteration\u001b[0m                             Traceback (most recent call last)",
      "Cell \u001b[1;32mIn[45], line 1\u001b[0m\n\u001b[1;32m----> 1\u001b[0m \u001b[38;5;28;43mnext\u001b[39;49m\u001b[43m(\u001b[49m\u001b[43ml\u001b[49m\u001b[43m)\u001b[49m\n",
      "\u001b[1;31mStopIteration\u001b[0m: "
     ]
    }
   ],
   "source": [
    "next(l) # do not remember in end"
   ]
  },
  {
   "cell_type": "code",
   "execution_count": 53,
   "id": "5adce938",
   "metadata": {},
   "outputs": [],
   "source": [
    "p=(5,8,6,4) # tuple is not an iterator object\n"
   ]
  },
  {
   "cell_type": "code",
   "execution_count": 54,
   "id": "b2e8bf0e",
   "metadata": {},
   "outputs": [
    {
     "ename": "TypeError",
     "evalue": "'tuple' object is not an iterator",
     "output_type": "error",
     "traceback": [
      "\u001b[1;31m---------------------------------------------------------------------------\u001b[0m",
      "\u001b[1;31mTypeError\u001b[0m                                 Traceback (most recent call last)",
      "Cell \u001b[1;32mIn[54], line 1\u001b[0m\n\u001b[1;32m----> 1\u001b[0m \u001b[38;5;28;43mnext\u001b[39;49m\u001b[43m(\u001b[49m\u001b[43mp\u001b[49m\u001b[43m)\u001b[49m\n",
      "\u001b[1;31mTypeError\u001b[0m: 'tuple' object is not an iterator"
     ]
    }
   ],
   "source": [
    "next(p)"
   ]
  },
  {
   "cell_type": "code",
   "execution_count": 55,
   "id": "e4946cc1",
   "metadata": {},
   "outputs": [],
   "source": [
    "t=iter(p)"
   ]
  },
  {
   "cell_type": "code",
   "execution_count": 56,
   "id": "ed143a96",
   "metadata": {},
   "outputs": [
    {
     "data": {
      "text/plain": [
       "5"
      ]
     },
     "execution_count": 56,
     "metadata": {},
     "output_type": "execute_result"
    }
   ],
   "source": [
    "next(t)"
   ]
  },
  {
   "cell_type": "code",
   "execution_count": 57,
   "id": "45d8fb46",
   "metadata": {},
   "outputs": [
    {
     "data": {
      "text/plain": [
       "8"
      ]
     },
     "execution_count": 57,
     "metadata": {},
     "output_type": "execute_result"
    }
   ],
   "source": [
    "next(t)"
   ]
  },
  {
   "cell_type": "code",
   "execution_count": 58,
   "id": "731704ca",
   "metadata": {},
   "outputs": [
    {
     "data": {
      "text/plain": [
       "6"
      ]
     },
     "execution_count": 58,
     "metadata": {},
     "output_type": "execute_result"
    }
   ],
   "source": [
    "next(t)"
   ]
  },
  {
   "cell_type": "code",
   "execution_count": 60,
   "id": "97995173",
   "metadata": {},
   "outputs": [],
   "source": [
    "def test4(n):\n",
    "    for i in range(n):\n",
    "         l=l.append(i)\n",
    "    return 1    "
   ]
  },
  {
   "cell_type": "code",
   "execution_count": 61,
   "id": "6f131401",
   "metadata": {},
   "outputs": [
    {
     "ename": "UnboundLocalError",
     "evalue": "local variable 'l' referenced before assignment",
     "output_type": "error",
     "traceback": [
      "\u001b[1;31m---------------------------------------------------------------------------\u001b[0m",
      "\u001b[1;31mUnboundLocalError\u001b[0m                         Traceback (most recent call last)",
      "Cell \u001b[1;32mIn[61], line 1\u001b[0m\n\u001b[1;32m----> 1\u001b[0m \u001b[43mtest4\u001b[49m\u001b[43m(\u001b[49m\u001b[38;5;241;43m6\u001b[39;49m\u001b[43m)\u001b[49m\n",
      "Cell \u001b[1;32mIn[60], line 3\u001b[0m, in \u001b[0;36mtest4\u001b[1;34m(n)\u001b[0m\n\u001b[0;32m      1\u001b[0m \u001b[38;5;28;01mdef\u001b[39;00m \u001b[38;5;21mtest4\u001b[39m(n):\n\u001b[0;32m      2\u001b[0m     \u001b[38;5;28;01mfor\u001b[39;00m i \u001b[38;5;129;01min\u001b[39;00m \u001b[38;5;28mrange\u001b[39m(n):\n\u001b[1;32m----> 3\u001b[0m          l\u001b[38;5;241m=\u001b[39m\u001b[43ml\u001b[49m\u001b[38;5;241m.\u001b[39mappend(i)\n\u001b[0;32m      4\u001b[0m     \u001b[38;5;28;01mreturn\u001b[39;00m \u001b[38;5;241m1\u001b[39m\n",
      "\u001b[1;31mUnboundLocalError\u001b[0m: local variable 'l' referenced before assignment"
     ]
    }
   ],
   "source": [
    "test4(6)\n",
    "#test4(60000000000000) #performance of CPU is 100% memmory but it will take huge amount of time #reason-single list we are \n",
    "# appending data there therefore computation is happening and memory is not free and hence taking huge amount of time so we use \n",
    "# generator using yield keyword"
   ]
  },
  {
   "cell_type": "code",
   "execution_count": 63,
   "id": "80de2654",
   "metadata": {},
   "outputs": [],
   "source": [
    "def test5(n):\n",
    "     for i in range(n):\n",
    "        yield i**3 # print also but it will return nonetype"
   ]
  },
  {
   "cell_type": "code",
   "execution_count": 64,
   "id": "64135fb0",
   "metadata": {},
   "outputs": [
    {
     "data": {
      "text/plain": [
       "<generator object test5 at 0x000001C872D0D380>"
      ]
     },
     "execution_count": 64,
     "metadata": {},
     "output_type": "execute_result"
    }
   ],
   "source": [
    "test5(30)"
   ]
  },
  {
   "cell_type": "code",
   "execution_count": 66,
   "id": "5dfc96ce",
   "metadata": {},
   "outputs": [
    {
     "name": "stdout",
     "output_type": "stream",
     "text": [
      "0\n",
      "1\n",
      "8\n",
      "27\n",
      "64\n",
      "125\n",
      "216\n",
      "343\n",
      "512\n",
      "729\n",
      "1000\n",
      "1331\n",
      "1728\n",
      "2197\n",
      "2744\n",
      "3375\n",
      "4096\n",
      "4913\n",
      "5832\n",
      "6859\n",
      "8000\n",
      "9261\n",
      "10648\n",
      "12167\n",
      "13824\n",
      "15625\n",
      "17576\n",
      "19683\n",
      "21952\n",
      "24389\n"
     ]
    }
   ],
   "source": [
    "for i in test5(30): # it is producing new data,it is not waiting for end to give data \n",
    "    print(i)"
   ]
  },
  {
   "cell_type": "code",
   "execution_count": 68,
   "id": "fe6132fa",
   "metadata": {},
   "outputs": [],
   "source": [
    "#fibonacci series-1,1,2 ,3,5,8,13.....\n",
    "\n",
    "def genfib(n):\n",
    "    a=1\n",
    "    b=1\n",
    "    output = []\n",
    "    for i in range(6):\n",
    "        output.append(a)\n",
    "        a,b=b,a+b\n",
    "    return output    "
   ]
  },
  {
   "cell_type": "code",
   "execution_count": 69,
   "id": "f2ee297c",
   "metadata": {},
   "outputs": [
    {
     "data": {
      "text/plain": [
       "[1, 1, 2, 3, 5, 8]"
      ]
     },
     "execution_count": 69,
     "metadata": {},
     "output_type": "execute_result"
    }
   ],
   "source": [
    "genfib(10)"
   ]
  },
  {
   "cell_type": "code",
   "execution_count": 70,
   "id": "743a3f63",
   "metadata": {},
   "outputs": [],
   "source": [
    "def genfib(n):\n",
    "    a=1\n",
    "    b=1\n",
    "    output = []\n",
    "    for i in range(6):\n",
    "        yield a      # a has to memorise what we did last and what we have to do next\n",
    "        a,b=b,a+b\n",
    "    return output    "
   ]
  },
  {
   "cell_type": "code",
   "execution_count": 71,
   "id": "525b84a0",
   "metadata": {},
   "outputs": [
    {
     "data": {
      "text/plain": [
       "<generator object genfib at 0x000001C872D0DA10>"
      ]
     },
     "execution_count": 71,
     "metadata": {},
     "output_type": "execute_result"
    }
   ],
   "source": [
    "genfib(2) # genfib(6)"
   ]
  },
  {
   "cell_type": "code",
   "execution_count": 72,
   "id": "9e86674c",
   "metadata": {},
   "outputs": [
    {
     "name": "stdout",
     "output_type": "stream",
     "text": [
      "1\n",
      "1\n",
      "2\n",
      "3\n",
      "5\n",
      "8\n"
     ]
    }
   ],
   "source": [
    "for i in genfib(600): # generator genfib(60000000)\n",
    "    print(i)"
   ]
  },
  {
   "cell_type": "markdown",
   "id": "5a2e96c9",
   "metadata": {},
   "source": [
    "file"
   ]
  },
  {
   "cell_type": "code",
   "execution_count": 77,
   "id": "3c50ef93",
   "metadata": {},
   "outputs": [],
   "source": [
    "f=open(\"test.txt\",\"w\")"
   ]
  },
  {
   "cell_type": "code",
   "execution_count": 78,
   "id": "43eabfda",
   "metadata": {},
   "outputs": [
    {
     "data": {
      "text/plain": [
       "53"
      ]
     },
     "execution_count": 78,
     "metadata": {},
     "output_type": "execute_result"
    }
   ],
   "source": [
    "f.write(r\"mtdgfgfhfghfdghjhjuytdsddvghgj ghdffdd oghf pdss hgfd\")"
   ]
  },
  {
   "cell_type": "code",
   "execution_count": 79,
   "id": "8243eed0",
   "metadata": {},
   "outputs": [],
   "source": [
    "f.close()"
   ]
  },
  {
   "cell_type": "code",
   "execution_count": 81,
   "id": "e9dd3b23",
   "metadata": {},
   "outputs": [],
   "source": [
    "f=open(\"test.txt\")"
   ]
  },
  {
   "cell_type": "code",
   "execution_count": 82,
   "id": "2e0406a1",
   "metadata": {},
   "outputs": [
    {
     "data": {
      "text/plain": [
       "'mtdgfgfhfghfdghjhjuytdsddvghgj ghdffdd oghf pdss hgfd'"
      ]
     },
     "execution_count": 82,
     "metadata": {},
     "output_type": "execute_result"
    }
   ],
   "source": [
    "f.read()"
   ]
  },
  {
   "cell_type": "code",
   "execution_count": 83,
   "id": "b06f1948",
   "metadata": {},
   "outputs": [
    {
     "data": {
      "text/plain": [
       "''"
      ]
     },
     "execution_count": 83,
     "metadata": {},
     "output_type": "execute_result"
    }
   ],
   "source": [
    "f.read() #curser is at the end thatswhy blank"
   ]
  },
  {
   "cell_type": "code",
   "execution_count": 84,
   "id": "0680f13c",
   "metadata": {},
   "outputs": [
    {
     "data": {
      "text/plain": [
       "10"
      ]
     },
     "execution_count": 84,
     "metadata": {},
     "output_type": "execute_result"
    }
   ],
   "source": [
    "f.seek(10)"
   ]
  },
  {
   "cell_type": "code",
   "execution_count": 85,
   "id": "452641a1",
   "metadata": {},
   "outputs": [
    {
     "data": {
      "text/plain": [
       "'hfdghjhjuytdsddvghgj ghdffdd oghf pdss hgfd'"
      ]
     },
     "execution_count": 85,
     "metadata": {},
     "output_type": "execute_result"
    }
   ],
   "source": [
    "f.read()"
   ]
  },
  {
   "cell_type": "code",
   "execution_count": 86,
   "id": "f1a1e351",
   "metadata": {},
   "outputs": [
    {
     "data": {
      "text/plain": [
       "0"
      ]
     },
     "execution_count": 86,
     "metadata": {},
     "output_type": "execute_result"
    }
   ],
   "source": [
    "f.seek(0)# again curser at start"
   ]
  },
  {
   "cell_type": "code",
   "execution_count": 87,
   "id": "3021081b",
   "metadata": {},
   "outputs": [
    {
     "data": {
      "text/plain": [
       "'mtdgfgfhfghfdghjhjuytdsddvghgj ghdffdd oghf pdss hgfd'"
      ]
     },
     "execution_count": 87,
     "metadata": {},
     "output_type": "execute_result"
    }
   ],
   "source": [
    "f.read()"
   ]
  },
  {
   "cell_type": "code",
   "execution_count": 88,
   "id": "d03ae512",
   "metadata": {},
   "outputs": [],
   "source": [
    "f=open(\"test.txt\",\"r\")"
   ]
  },
  {
   "cell_type": "code",
   "execution_count": 89,
   "id": "f3a855b5",
   "metadata": {},
   "outputs": [
    {
     "ename": "UnsupportedOperation",
     "evalue": "not writable",
     "output_type": "error",
     "traceback": [
      "\u001b[1;31m---------------------------------------------------------------------------\u001b[0m",
      "\u001b[1;31mUnsupportedOperation\u001b[0m                      Traceback (most recent call last)",
      "Cell \u001b[1;32mIn[89], line 1\u001b[0m\n\u001b[1;32m----> 1\u001b[0m \u001b[43mf\u001b[49m\u001b[38;5;241;43m.\u001b[39;49m\u001b[43mwrite\u001b[49m\u001b[43m(\u001b[49m\u001b[38;5;124;43m\"\u001b[39;49m\u001b[38;5;124;43mpriyanka\u001b[39;49m\u001b[38;5;124;43m\"\u001b[39;49m\u001b[43m)\u001b[49m\n",
      "\u001b[1;31mUnsupportedOperation\u001b[0m: not writable"
     ]
    }
   ],
   "source": [
    "f.write(\"priyanka\") # file is opened in read mode"
   ]
  },
  {
   "cell_type": "code",
   "execution_count": 90,
   "id": "b58f0499",
   "metadata": {},
   "outputs": [
    {
     "data": {
      "text/plain": [
       "'mtdgfgfhfghfdghjhjuytdsddvghgj ghdffdd oghf pdss hgfd'"
      ]
     },
     "execution_count": 90,
     "metadata": {},
     "output_type": "execute_result"
    }
   ],
   "source": [
    "f.read()"
   ]
  },
  {
   "cell_type": "code",
   "execution_count": null,
   "id": "99e73bc0",
   "metadata": {},
   "outputs": [],
   "source": [
    "f.seek(10)#curser at 10 position"
   ]
  },
  {
   "cell_type": "code",
   "execution_count": 91,
   "id": "1ac39750",
   "metadata": {},
   "outputs": [
    {
     "data": {
      "text/plain": [
       "0"
      ]
     },
     "execution_count": 91,
     "metadata": {},
     "output_type": "execute_result"
    }
   ],
   "source": [
    "f.seek(0)"
   ]
  },
  {
   "cell_type": "code",
   "execution_count": 92,
   "id": "c622bd70",
   "metadata": {},
   "outputs": [
    {
     "data": {
      "text/plain": [
       "'mtdgfgfhfghfdghjhjuytdsdd'"
      ]
     },
     "execution_count": 92,
     "metadata": {},
     "output_type": "execute_result"
    }
   ],
   "source": [
    "f.read(25) # 0 to 24 letters"
   ]
  },
  {
   "cell_type": "code",
   "execution_count": 93,
   "id": "aea2ede7",
   "metadata": {},
   "outputs": [],
   "source": [
    "f.close()"
   ]
  },
  {
   "cell_type": "code",
   "execution_count": 94,
   "id": "052b937a",
   "metadata": {},
   "outputs": [
    {
     "ename": "ValueError",
     "evalue": "I/O operation on closed file.",
     "output_type": "error",
     "traceback": [
      "\u001b[1;31m---------------------------------------------------------------------------\u001b[0m",
      "\u001b[1;31mValueError\u001b[0m                                Traceback (most recent call last)",
      "Cell \u001b[1;32mIn[94], line 1\u001b[0m\n\u001b[1;32m----> 1\u001b[0m \u001b[43mf\u001b[49m\u001b[38;5;241;43m.\u001b[39;49m\u001b[43mread\u001b[49m\u001b[43m(\u001b[49m\u001b[43m)\u001b[49m\n",
      "\u001b[1;31mValueError\u001b[0m: I/O operation on closed file."
     ]
    }
   ],
   "source": [
    "f.read() #file is closed"
   ]
  },
  {
   "cell_type": "code",
   "execution_count": 97,
   "id": "921a349d",
   "metadata": {},
   "outputs": [],
   "source": [
    "f=open(\"test.txt\",\"w\")"
   ]
  },
  {
   "cell_type": "code",
   "execution_count": 98,
   "id": "f7ac6d89",
   "metadata": {},
   "outputs": [
    {
     "data": {
      "text/plain": [
       "33"
      ]
     },
     "execution_count": 98,
     "metadata": {},
     "output_type": "execute_result"
    }
   ],
   "source": [
    "f.write(\"fgdsss hgth dfghfg ofghr fghjh ss\")"
   ]
  },
  {
   "cell_type": "code",
   "execution_count": 105,
   "id": "5f6d3086",
   "metadata": {},
   "outputs": [],
   "source": [
    "f.close()#f.tab button all function will be seen"
   ]
  },
  {
   "cell_type": "code",
   "execution_count": 106,
   "id": "1ccbd8e4",
   "metadata": {},
   "outputs": [
    {
     "data": {
      "text/plain": [
       "<_io.TextIOWrapper name='test.txt' mode='w' encoding='cp1252'>"
      ]
     },
     "execution_count": 106,
     "metadata": {},
     "output_type": "execute_result"
    }
   ],
   "source": [
    "open(\"test.txt\",\"w\") # data gone,no data available in file know as truncation"
   ]
  },
  {
   "cell_type": "code",
   "execution_count": 111,
   "id": "3b7c133b",
   "metadata": {},
   "outputs": [],
   "source": [
    "f=open(\"test.txt\",\"a\") # a means append"
   ]
  },
  {
   "cell_type": "code",
   "execution_count": 112,
   "id": "46b08fa2",
   "metadata": {},
   "outputs": [
    {
     "data": {
      "text/plain": [
       "15"
      ]
     },
     "execution_count": 112,
     "metadata": {},
     "output_type": "execute_result"
    }
   ],
   "source": [
    "f.write(\"priyanka_kumari\")# shift tab to see all functions"
   ]
  },
  {
   "cell_type": "code",
   "execution_count": 113,
   "id": "000ddcd6",
   "metadata": {},
   "outputs": [],
   "source": [
    "f.close()"
   ]
  },
  {
   "cell_type": "code",
   "execution_count": 129,
   "id": "a730f514",
   "metadata": {},
   "outputs": [],
   "source": [
    "f = open(\"text1.txt\",\"wb\")# wb write binary"
   ]
  },
  {
   "cell_type": "code",
   "execution_count": 130,
   "id": "4259cbf7",
   "metadata": {},
   "outputs": [
    {
     "ename": "TypeError",
     "evalue": "a bytes-like object is required, not 'str'",
     "output_type": "error",
     "traceback": [
      "\u001b[1;31m---------------------------------------------------------------------------\u001b[0m",
      "\u001b[1;31mTypeError\u001b[0m                                 Traceback (most recent call last)",
      "Cell \u001b[1;32mIn[130], line 1\u001b[0m\n\u001b[1;32m----> 1\u001b[0m \u001b[43mf\u001b[49m\u001b[38;5;241;43m.\u001b[39;49m\u001b[43mwrite\u001b[49m\u001b[43m(\u001b[49m\u001b[38;5;124;43m\"\u001b[39;49m\u001b[38;5;124;43mfdcvcvvbvbhgvvbds\u001b[39;49m\u001b[38;5;124;43m\"\u001b[39;49m\u001b[43m)\u001b[49m\n",
      "\u001b[1;31mTypeError\u001b[0m: a bytes-like object is required, not 'str'"
     ]
    }
   ],
   "source": [
    "f.write(\"fdcvcvvbvbhgvvbds\")# not in binary format"
   ]
  },
  {
   "cell_type": "code",
   "execution_count": 131,
   "id": "ee7f43d8",
   "metadata": {},
   "outputs": [
    {
     "data": {
      "text/plain": [
       "20"
      ]
     },
     "execution_count": 131,
     "metadata": {},
     "output_type": "execute_result"
    }
   ],
   "source": [
    "f.write(b\"sfdjhhhgvbcerygddhnn\")# b is notation of binary"
   ]
  },
  {
   "cell_type": "code",
   "execution_count": 132,
   "id": "fca078e8",
   "metadata": {},
   "outputs": [],
   "source": [
    "f=open(\"text1.txt\",\"r\")"
   ]
  },
  {
   "cell_type": "code",
   "execution_count": 133,
   "id": "a07fe4aa",
   "metadata": {},
   "outputs": [
    {
     "data": {
      "text/plain": [
       "0"
      ]
     },
     "execution_count": 133,
     "metadata": {},
     "output_type": "execute_result"
    }
   ],
   "source": [
    "f.seek(0)"
   ]
  },
  {
   "cell_type": "code",
   "execution_count": 134,
   "id": "cf47297d",
   "metadata": {},
   "outputs": [
    {
     "data": {
      "text/plain": [
       "'sfdjhhhgvbcerygddhnn'"
      ]
     },
     "execution_count": 134,
     "metadata": {},
     "output_type": "execute_result"
    }
   ],
   "source": [
    "f.read()"
   ]
  },
  {
   "cell_type": "code",
   "execution_count": 136,
   "id": "13c769f1",
   "metadata": {},
   "outputs": [
    {
     "data": {
      "text/plain": [
       "0"
      ]
     },
     "execution_count": 136,
     "metadata": {},
     "output_type": "execute_result"
    }
   ],
   "source": [
    "f.seek(0)"
   ]
  },
  {
   "cell_type": "code",
   "execution_count": 137,
   "id": "bb9af21b",
   "metadata": {},
   "outputs": [
    {
     "data": {
      "text/plain": [
       "'s'"
      ]
     },
     "execution_count": 137,
     "metadata": {},
     "output_type": "execute_result"
    }
   ],
   "source": [
    "f.read(1)"
   ]
  },
  {
   "cell_type": "code",
   "execution_count": 140,
   "id": "5cee8c2d",
   "metadata": {},
   "outputs": [
    {
     "ename": "UnsupportedOperation",
     "evalue": "can't do nonzero end-relative seeks",
     "output_type": "error",
     "traceback": [
      "\u001b[1;31m---------------------------------------------------------------------------\u001b[0m",
      "\u001b[1;31mUnsupportedOperation\u001b[0m                      Traceback (most recent call last)",
      "Cell \u001b[1;32mIn[140], line 1\u001b[0m\n\u001b[1;32m----> 1\u001b[0m \u001b[43mf\u001b[49m\u001b[38;5;241;43m.\u001b[39;49m\u001b[43mseek\u001b[49m\u001b[43m(\u001b[49m\u001b[38;5;241;43m-\u001b[39;49m\u001b[38;5;241;43m4\u001b[39;49m\u001b[43m,\u001b[49m\u001b[38;5;241;43m2\u001b[39;49m\u001b[43m)\u001b[49m\n",
      "\u001b[1;31mUnsupportedOperation\u001b[0m: can't do nonzero end-relative seeks"
     ]
    }
   ],
   "source": [
    "f.seek(-4,2)"
   ]
  },
  {
   "cell_type": "code",
   "execution_count": 142,
   "id": "01172232",
   "metadata": {},
   "outputs": [],
   "source": [
    "f= open(\"test2.txt\",\"w\")"
   ]
  },
  {
   "cell_type": "code",
   "execution_count": 143,
   "id": "9d25abe0",
   "metadata": {},
   "outputs": [
    {
     "data": {
      "text/plain": [
       "30"
      ]
     },
     "execution_count": 143,
     "metadata": {},
     "output_type": "execute_result"
    }
   ],
   "source": [
    "f.write(\"gdjt yfghvbn hggjdghj jhfgfvbn\")"
   ]
  },
  {
   "cell_type": "code",
   "execution_count": 144,
   "id": "3b81cfad",
   "metadata": {},
   "outputs": [],
   "source": [
    "f.close()"
   ]
  },
  {
   "cell_type": "code",
   "execution_count": 145,
   "id": "690e6f51",
   "metadata": {},
   "outputs": [],
   "source": [
    "f=open(\"test2.txt\",\"r\")"
   ]
  },
  {
   "cell_type": "code",
   "execution_count": 146,
   "id": "f1a985a7",
   "metadata": {},
   "outputs": [
    {
     "data": {
      "text/plain": [
       "'gdjt yfghvbn hggjdghj jhfgfvbn'"
      ]
     },
     "execution_count": 146,
     "metadata": {},
     "output_type": "execute_result"
    }
   ],
   "source": [
    "f.read()"
   ]
  },
  {
   "cell_type": "code",
   "execution_count": 150,
   "id": "6bb0f6c4",
   "metadata": {},
   "outputs": [
    {
     "data": {
      "text/plain": [
       "'gfgh\\ncghh\\ngcvhj\\ncgjcg'"
      ]
     },
     "execution_count": 150,
     "metadata": {},
     "output_type": "execute_result"
    }
   ],
   "source": [
    "f.read() # add something into file before running"
   ]
  },
  {
   "cell_type": "code",
   "execution_count": 152,
   "id": "a0380b24",
   "metadata": {},
   "outputs": [
    {
     "data": {
      "text/plain": [
       "0"
      ]
     },
     "execution_count": 152,
     "metadata": {},
     "output_type": "execute_result"
    }
   ],
   "source": [
    "f.seek(0)"
   ]
  },
  {
   "cell_type": "code",
   "execution_count": 153,
   "id": "3fe1e649",
   "metadata": {},
   "outputs": [
    {
     "data": {
      "text/plain": [
       "'gdjt yfghvbn hggjdghj jhfgfvbn\\n'"
      ]
     },
     "execution_count": 153,
     "metadata": {},
     "output_type": "execute_result"
    }
   ],
   "source": [
    "f.readline()"
   ]
  },
  {
   "cell_type": "code",
   "execution_count": 154,
   "id": "fdc52326",
   "metadata": {},
   "outputs": [
    {
     "data": {
      "text/plain": [
       "'gfgh\\n'"
      ]
     },
     "execution_count": 154,
     "metadata": {},
     "output_type": "execute_result"
    }
   ],
   "source": [
    "f.readline()"
   ]
  },
  {
   "cell_type": "code",
   "execution_count": 155,
   "id": "a31fae28",
   "metadata": {},
   "outputs": [
    {
     "data": {
      "text/plain": [
       "'cghh\\n'"
      ]
     },
     "execution_count": 155,
     "metadata": {},
     "output_type": "execute_result"
    }
   ],
   "source": [
    "f.readline()"
   ]
  },
  {
   "cell_type": "code",
   "execution_count": 156,
   "id": "553e6307",
   "metadata": {},
   "outputs": [
    {
     "data": {
      "text/plain": [
       "'gcvhj\\n'"
      ]
     },
     "execution_count": 156,
     "metadata": {},
     "output_type": "execute_result"
    }
   ],
   "source": [
    "f.readline()"
   ]
  },
  {
   "cell_type": "code",
   "execution_count": 157,
   "id": "c4c3f362",
   "metadata": {},
   "outputs": [],
   "source": [
    "f.close()"
   ]
  },
  {
   "cell_type": "code",
   "execution_count": 159,
   "id": "f1cba6e6",
   "metadata": {},
   "outputs": [],
   "source": [
    "f = open(\"test2.txt\",\"r\")"
   ]
  },
  {
   "cell_type": "code",
   "execution_count": 160,
   "id": "fd20ac76",
   "metadata": {},
   "outputs": [
    {
     "name": "stdout",
     "output_type": "stream",
     "text": [
      "gdjt yfghvbn hggjdghj jhfgfvbn\n",
      " gfgh\n",
      " cghh\n",
      " gcvhj\n",
      " cgjcg "
     ]
    }
   ],
   "source": [
    "for i in f:\n",
    "    print(i, end=\" \")"
   ]
  },
  {
   "cell_type": "code",
   "execution_count": 161,
   "id": "3260f23d",
   "metadata": {},
   "outputs": [],
   "source": [
    "f.close()"
   ]
  },
  {
   "cell_type": "code",
   "execution_count": 162,
   "id": "1c78589e",
   "metadata": {},
   "outputs": [],
   "source": [
    "f=open(\"test2.txt\",\"r\")"
   ]
  },
  {
   "cell_type": "code",
   "execution_count": 163,
   "id": "a9694e40",
   "metadata": {},
   "outputs": [
    {
     "data": {
      "text/plain": [
       "['gdjt yfghvbn hggjdghj jhfgfvbn\\n', 'gfgh\\n', 'cghh\\n', 'gcvhj\\n', 'cgjcg']"
      ]
     },
     "execution_count": 163,
     "metadata": {},
     "output_type": "execute_result"
    }
   ],
   "source": [
    "list(f)"
   ]
  },
  {
   "cell_type": "code",
   "execution_count": 164,
   "id": "68ed19df",
   "metadata": {},
   "outputs": [],
   "source": [
    "f.close()"
   ]
  },
  {
   "cell_type": "code",
   "execution_count": 169,
   "id": "4ada866a",
   "metadata": {},
   "outputs": [],
   "source": [
    "f=open(\"test2.txt\",\"r+\")# r+ means both read and write mode"
   ]
  },
  {
   "cell_type": "code",
   "execution_count": 166,
   "id": "b32b1941",
   "metadata": {},
   "outputs": [
    {
     "data": {
      "text/plain": [
       "['gdjt yfghvbn hggjdghj jhfgfvbn\\n', 'gfgh\\n', 'cghh\\n', 'gcvhj\\n', 'cgjcg']"
      ]
     },
     "execution_count": 166,
     "metadata": {},
     "output_type": "execute_result"
    }
   ],
   "source": [
    "list(f)"
   ]
  },
  {
   "cell_type": "code",
   "execution_count": 170,
   "id": "bffb0ada",
   "metadata": {},
   "outputs": [],
   "source": [
    "f.writelines(\"new lines dggfgh ggj hfghj kjhj\") #"
   ]
  },
  {
   "cell_type": "code",
   "execution_count": 171,
   "id": "7333e3fe",
   "metadata": {},
   "outputs": [
    {
     "data": {
      "text/plain": [
       "9"
      ]
     },
     "execution_count": 171,
     "metadata": {},
     "output_type": "execute_result"
    }
   ],
   "source": [
    "f.fileno()"
   ]
  },
  {
   "cell_type": "code",
   "execution_count": 172,
   "id": "3fc5f4a2",
   "metadata": {},
   "outputs": [
    {
     "name": "stdout",
     "output_type": "stream",
     "text": [
      "Writing test5.txt\n"
     ]
    }
   ],
   "source": [
    "%%writefile test5.txt # another way of writing in file\n",
    "my name is priyanka"
   ]
  },
  {
   "cell_type": "code",
   "execution_count": 173,
   "id": "b5412fad",
   "metadata": {},
   "outputs": [],
   "source": [
    "import os # os package"
   ]
  },
  {
   "cell_type": "code",
   "execution_count": 175,
   "id": "de2b08be",
   "metadata": {},
   "outputs": [
    {
     "data": {
      "text/plain": [
       "'C:\\\\Users\\\\Lenovo\\\\PythonPractice'"
      ]
     },
     "execution_count": 175,
     "metadata": {},
     "output_type": "execute_result"
    }
   ],
   "source": [
    "pwd() #pwd=present working directory"
   ]
  },
  {
   "cell_type": "code",
   "execution_count": 176,
   "id": "277b4540",
   "metadata": {},
   "outputs": [
    {
     "data": {
      "text/plain": [
       "'C:\\\\Users\\\\Lenovo\\\\PythonPractice'"
      ]
     },
     "execution_count": 176,
     "metadata": {},
     "output_type": "execute_result"
    }
   ],
   "source": [
    "os.getcwd()"
   ]
  },
  {
   "cell_type": "code",
   "execution_count": 177,
   "id": "84e965d9",
   "metadata": {},
   "outputs": [
    {
     "data": {
      "text/plain": [
       "['.ipynb_checkpoints',\n",
       " 'P1.ipynb',\n",
       " 'practice python.ipynb',\n",
       " 'python_9.ipynb',\n",
       " 'test.txt',\n",
       " 'test2.txt',\n",
       " 'test5.txt',\n",
       " 'text1.txt']"
      ]
     },
     "execution_count": 177,
     "metadata": {},
     "output_type": "execute_result"
    }
   ],
   "source": [
    "os.listdir()"
   ]
  },
  {
   "cell_type": "code",
   "execution_count": 180,
   "id": "30915645",
   "metadata": {},
   "outputs": [
    {
     "data": {
      "text/plain": [
       "['first.java.txt']"
      ]
     },
     "execution_count": 180,
     "metadata": {},
     "output_type": "execute_result"
    }
   ],
   "source": [
    "os.listdir(\"D:\\java\")"
   ]
  },
  {
   "cell_type": "code",
   "execution_count": 182,
   "id": "6d9f46c9",
   "metadata": {},
   "outputs": [],
   "source": [
    "os.chdir(\"D:\\Data Einstein\")# change my location"
   ]
  },
  {
   "cell_type": "code",
   "execution_count": 188,
   "id": "6cf1a8b2",
   "metadata": {},
   "outputs": [],
   "source": [
    "os.chdir(\"C:\\\\Users\\\\Lenovo\\\\PythonPractice\")# added extra\\"
   ]
  },
  {
   "cell_type": "code",
   "execution_count": 189,
   "id": "d4baaa30",
   "metadata": {},
   "outputs": [
    {
     "data": {
      "text/plain": [
       "'C:\\\\Users\\\\Lenovo\\\\PythonPractice'"
      ]
     },
     "execution_count": 189,
     "metadata": {},
     "output_type": "execute_result"
    }
   ],
   "source": [
    "pwd()"
   ]
  },
  {
   "cell_type": "code",
   "execution_count": 193,
   "id": "d5445227",
   "metadata": {},
   "outputs": [],
   "source": [
    "os.mkdir(\"priyanka\")#new directory"
   ]
  },
  {
   "cell_type": "code",
   "execution_count": 194,
   "id": "3c44e71d",
   "metadata": {},
   "outputs": [
    {
     "data": {
      "text/plain": [
       "['.ipynb_checkpoints',\n",
       " 'P1.ipynb',\n",
       " 'practice python.ipynb',\n",
       " 'priyanka',\n",
       " 'python_9.ipynb',\n",
       " 'test.txt',\n",
       " 'test2.txt',\n",
       " 'test5.txt',\n",
       " 'text1.txt']"
      ]
     },
     "execution_count": 194,
     "metadata": {},
     "output_type": "execute_result"
    }
   ],
   "source": [
    "os.listdir()"
   ]
  },
  {
   "cell_type": "code",
   "execution_count": 196,
   "id": "0a314525",
   "metadata": {},
   "outputs": [
    {
     "name": "stdout",
     "output_type": "stream",
     "text": [
      "my files is available in the dir\n",
      "<_io.TextIOWrapper name='text1.txt' mode='r+' encoding='cp1252'>\n"
     ]
    }
   ],
   "source": [
    "if \"text1.txt\" in os.listdir():\n",
    "    print(\"my files is available in the dir\")\n",
    "    f= open(\"text1.txt\",\"r+\")\n",
    "    print(f)\n",
    "else:\n",
    "    print(\"no this file is not available in my current dir\")"
   ]
  },
  {
   "cell_type": "code",
   "execution_count": 197,
   "id": "292400ba",
   "metadata": {},
   "outputs": [
    {
     "name": "stdout",
     "output_type": "stream",
     "text": [
      "my files is available in the dir\n",
      "sfdjhhhgvbcerygddhnn\n"
     ]
    }
   ],
   "source": [
    "if \"text1.txt\" in os.listdir():\n",
    "    print(\"my files is available in the dir\")\n",
    "    f= open(\"text1.txt\",\"r+\")\n",
    "    for i in f:\n",
    "        print(i)\n",
    "else:\n",
    "    print(\"no this file is not available in my current dir\")"
   ]
  },
  {
   "cell_type": "code",
   "execution_count": 198,
   "id": "203a12f0",
   "metadata": {},
   "outputs": [
    {
     "ename": "FileExistsError",
     "evalue": "[WinError 183] Cannot create a file when that file already exists: 'priyanka'",
     "output_type": "error",
     "traceback": [
      "\u001b[1;31m---------------------------------------------------------------------------\u001b[0m",
      "\u001b[1;31mFileExistsError\u001b[0m                           Traceback (most recent call last)",
      "Cell \u001b[1;32mIn[198], line 1\u001b[0m\n\u001b[1;32m----> 1\u001b[0m \u001b[43mos\u001b[49m\u001b[38;5;241;43m.\u001b[39;49m\u001b[43mmkdir\u001b[49m\u001b[43m(\u001b[49m\u001b[38;5;124;43m\"\u001b[39;49m\u001b[38;5;124;43mpriyanka\u001b[39;49m\u001b[38;5;124;43m\"\u001b[39;49m\u001b[43m)\u001b[49m\n",
      "\u001b[1;31mFileExistsError\u001b[0m: [WinError 183] Cannot create a file when that file already exists: 'priyanka'"
     ]
    }
   ],
   "source": [
    "os.mkdir(\"priyanka\")"
   ]
  },
  {
   "cell_type": "code",
   "execution_count": 202,
   "id": "4a68fe0a",
   "metadata": {},
   "outputs": [],
   "source": [
    "if not os.path.isdir(\"priyanka\"):\n",
    "    os.mkdir(\"priyanka\")"
   ]
  },
  {
   "cell_type": "code",
   "execution_count": 203,
   "id": "6ca5165c",
   "metadata": {},
   "outputs": [],
   "source": [
    "os.rename(\"test2.txt\",\"xyz.txt\")"
   ]
  },
  {
   "cell_type": "code",
   "execution_count": 208,
   "id": "129cce93",
   "metadata": {},
   "outputs": [],
   "source": [
    "f=open(\"xyz.txt\" , \"r+\")\n",
    "      "
   ]
  },
  {
   "cell_type": "code",
   "execution_count": 209,
   "id": "24148deb",
   "metadata": {},
   "outputs": [
    {
     "data": {
      "text/plain": [
       "'new lines dggfgh ggj hfghj kjhjgfgh\\ncghh\\ngcvhj\\ncgjcgnew lines dggfgh ggj hfghj kjhjnew lines dggfgh ggj hfghj kjhj'"
      ]
     },
     "execution_count": 209,
     "metadata": {},
     "output_type": "execute_result"
    }
   ],
   "source": [
    "f.read()"
   ]
  },
  {
   "cell_type": "code",
   "execution_count": 210,
   "id": "800aa3c3",
   "metadata": {},
   "outputs": [],
   "source": [
    "f.close()"
   ]
  },
  {
   "cell_type": "code",
   "execution_count": 223,
   "id": "b4466c13",
   "metadata": {},
   "outputs": [],
   "source": [
    "os.rmdir(\"priyanka\")# remove file/folder"
   ]
  },
  {
   "cell_type": "code",
   "execution_count": 211,
   "id": "c274e7fb",
   "metadata": {},
   "outputs": [
    {
     "data": {
      "text/plain": [
       "'D:\\\\Data Einstein\\\\xyz.txt'"
      ]
     },
     "execution_count": 211,
     "metadata": {},
     "output_type": "execute_result"
    }
   ],
   "source": [
    "import shutil # move file to another location\n",
    "shutil.move(\"C:\\\\Users\\\\Lenovo\\\\PythonPractice\\\\xyz.txt\",\"D:\\Data Einstein\")"
   ]
  },
  {
   "cell_type": "code",
   "execution_count": null,
   "id": "e01a1b1e",
   "metadata": {},
   "outputs": [],
   "source": [
    "#create a directory\n",
    "#create 10 txt file and write same data in all txt at a time\n",
    "#read all the data from this file print in console\n",
    "#hold all the data into a list\n",
    "#write all the data in a new file from the list\n",
    "# keep only a new file in the present directory and move rest in new dir"
   ]
  },
  {
   "cell_type": "code",
   "execution_count": 212,
   "id": "dab4f871",
   "metadata": {},
   "outputs": [],
   "source": [
    "import os\n",
    "os.mkdir(\"newdir\")"
   ]
  },
  {
   "cell_type": "code",
   "execution_count": 216,
   "id": "4cde745a",
   "metadata": {},
   "outputs": [
    {
     "ename": "FileNotFoundError",
     "evalue": "[Errno 2] No such file or directory: 'xyz.txt'",
     "output_type": "error",
     "traceback": [
      "\u001b[1;31m---------------------------------------------------------------------------\u001b[0m",
      "\u001b[1;31mFileNotFoundError\u001b[0m                         Traceback (most recent call last)",
      "Cell \u001b[1;32mIn[216], line 2\u001b[0m\n\u001b[0;32m      1\u001b[0m \u001b[38;5;28;01mfor\u001b[39;00m i \u001b[38;5;129;01min\u001b[39;00m \u001b[38;5;28mrange\u001b[39m(\u001b[38;5;241m10\u001b[39m):\n\u001b[1;32m----> 2\u001b[0m     d[i]\u001b[38;5;241m=\u001b[39m\u001b[38;5;28;43mopen\u001b[39;49m\u001b[43m(\u001b[49m\u001b[38;5;124;43m\"\u001b[39;49m\u001b[38;5;124;43mxyz.txt\u001b[39;49m\u001b[38;5;124;43m\"\u001b[39;49m\u001b[43m,\u001b[49m\u001b[38;5;124;43m\"\u001b[39;49m\u001b[38;5;124;43mr+\u001b[39;49m\u001b[38;5;124;43m\"\u001b[39;49m\u001b[43m)\u001b[49m\n",
      "File \u001b[1;32m~\\anaconda3\\lib\\site-packages\\IPython\\core\\interactiveshell.py:282\u001b[0m, in \u001b[0;36m_modified_open\u001b[1;34m(file, *args, **kwargs)\u001b[0m\n\u001b[0;32m    275\u001b[0m \u001b[38;5;28;01mif\u001b[39;00m file \u001b[38;5;129;01min\u001b[39;00m {\u001b[38;5;241m0\u001b[39m, \u001b[38;5;241m1\u001b[39m, \u001b[38;5;241m2\u001b[39m}:\n\u001b[0;32m    276\u001b[0m     \u001b[38;5;28;01mraise\u001b[39;00m \u001b[38;5;167;01mValueError\u001b[39;00m(\n\u001b[0;32m    277\u001b[0m         \u001b[38;5;124mf\u001b[39m\u001b[38;5;124m\"\u001b[39m\u001b[38;5;124mIPython won\u001b[39m\u001b[38;5;124m'\u001b[39m\u001b[38;5;124mt let you open fd=\u001b[39m\u001b[38;5;132;01m{\u001b[39;00mfile\u001b[38;5;132;01m}\u001b[39;00m\u001b[38;5;124m by default \u001b[39m\u001b[38;5;124m\"\u001b[39m\n\u001b[0;32m    278\u001b[0m         \u001b[38;5;124m\"\u001b[39m\u001b[38;5;124mas it is likely to crash IPython. If you know what you are doing, \u001b[39m\u001b[38;5;124m\"\u001b[39m\n\u001b[0;32m    279\u001b[0m         \u001b[38;5;124m\"\u001b[39m\u001b[38;5;124myou can use builtins\u001b[39m\u001b[38;5;124m'\u001b[39m\u001b[38;5;124m open.\u001b[39m\u001b[38;5;124m\"\u001b[39m\n\u001b[0;32m    280\u001b[0m     )\n\u001b[1;32m--> 282\u001b[0m \u001b[38;5;28;01mreturn\u001b[39;00m io_open(file, \u001b[38;5;241m*\u001b[39margs, \u001b[38;5;241m*\u001b[39m\u001b[38;5;241m*\u001b[39mkwargs)\n",
      "\u001b[1;31mFileNotFoundError\u001b[0m: [Errno 2] No such file or directory: 'xyz.txt'"
     ]
    }
   ],
   "source": [
    "for i in range(10):\n",
    "    d[i]=open(\"xyz.txt\",\"r+\")\n",
    "       "
   ]
  },
  {
   "cell_type": "code",
   "execution_count": 225,
   "id": "a0380996",
   "metadata": {},
   "outputs": [],
   "source": [
    "import os\n",
    "os.mkdir(\"priyanka\")\n",
    "os.chdir(os.getcwd()+\"\\priyanka\")\n",
    "for i in range(10):\n",
    "    file = \"test\"+str(i)+\".txt\"\n",
    "    f=open(file,\"w\")\n",
    "    f.write(\"my name is Priyanka kumari\")\n",
    "    f.close()"
   ]
  },
  {
   "cell_type": "code",
   "execution_count": 226,
   "id": "d529aa95",
   "metadata": {},
   "outputs": [
    {
     "name": "stdout",
     "output_type": "stream",
     "text": [
      "my name is Priyanka kumari\n",
      "my name is Priyanka kumari\n",
      "my name is Priyanka kumari\n",
      "my name is Priyanka kumari\n",
      "my name is Priyanka kumari\n",
      "my name is Priyanka kumari\n",
      "my name is Priyanka kumari\n",
      "my name is Priyanka kumari\n",
      "my name is Priyanka kumari\n",
      "my name is Priyanka kumari\n"
     ]
    }
   ],
   "source": [
    "for i in range (10): #use list to make a generic code\n",
    "    file=\"test\"+str(i)+\".txt\"\n",
    "    f=open(file,'r')\n",
    "    data= f.read()\n",
    "    f.close()\n",
    "    print(data)\n",
    "    "
   ]
  },
  {
   "cell_type": "code",
   "execution_count": 227,
   "id": "3075ca03",
   "metadata": {},
   "outputs": [],
   "source": [
    "l=[]\n",
    "for i in range(10):\n",
    "    file='test'+str(i)+\".txt\"\n",
    "    f= open(file,\"r\")\n",
    "    l.append(f.read())\n",
    "    f.close()\n",
    "    "
   ]
  },
  {
   "cell_type": "code",
   "execution_count": 228,
   "id": "e847c7fd",
   "metadata": {},
   "outputs": [
    {
     "name": "stdout",
     "output_type": "stream",
     "text": [
      "['my name is Priyanka kumari', 'my name is Priyanka kumari', 'my name is Priyanka kumari', 'my name is Priyanka kumari', 'my name is Priyanka kumari', 'my name is Priyanka kumari', 'my name is Priyanka kumari', 'my name is Priyanka kumari', 'my name is Priyanka kumari', 'my name is Priyanka kumari']\n"
     ]
    }
   ],
   "source": [
    "print(l)"
   ]
  },
  {
   "cell_type": "code",
   "execution_count": 229,
   "id": "5cbbfa1d",
   "metadata": {},
   "outputs": [],
   "source": [
    "f= open(\"new_file.txt\",\"w\")\n",
    "for i in l:\n",
    "    f.write(i)\n",
    "f.close()"
   ]
  },
  {
   "cell_type": "code",
   "execution_count": 230,
   "id": "cf162fe5",
   "metadata": {},
   "outputs": [],
   "source": [
    "f= open(\"new_file.txt\",\"r\")"
   ]
  },
  {
   "cell_type": "code",
   "execution_count": 231,
   "id": "50d9cd12",
   "metadata": {},
   "outputs": [
    {
     "data": {
      "text/plain": [
       "'my name is Priyanka kumarimy name is Priyanka kumarimy name is Priyanka kumarimy name is Priyanka kumarimy name is Priyanka kumarimy name is Priyanka kumarimy name is Priyanka kumarimy name is Priyanka kumarimy name is Priyanka kumarimy name is Priyanka kumari'"
      ]
     },
     "execution_count": 231,
     "metadata": {},
     "output_type": "execute_result"
    }
   ],
   "source": [
    "f.read()"
   ]
  },
  {
   "cell_type": "code",
   "execution_count": null,
   "id": "b614a475",
   "metadata": {},
   "outputs": [],
   "source": []
  }
 ],
 "metadata": {
  "kernelspec": {
   "display_name": "Python 3 (ipykernel)",
   "language": "python",
   "name": "python3"
  },
  "language_info": {
   "codemirror_mode": {
    "name": "ipython",
    "version": 3
   },
   "file_extension": ".py",
   "mimetype": "text/x-python",
   "name": "python",
   "nbconvert_exporter": "python",
   "pygments_lexer": "ipython3",
   "version": "3.10.9"
  }
 },
 "nbformat": 4,
 "nbformat_minor": 5
}
